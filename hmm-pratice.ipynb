{
 "cells": [
  {
   "cell_type": "code",
   "execution_count": 1,
   "metadata": {},
   "outputs": [],
   "source": [
    "import numpy as np\n",
    "\n",
    "\n",
    "SAMPLE_NUM = 100\n",
    "N_COMPONENTS = 10\n",
    "CLASS_NUM = 2\n",
    "\n",
    "Xs = [np.random.rand(10, 2) for _ in range(SAMPLE_NUM)]\n",
    "ys = [np.random.randint(CLASS_NUM) for _ in range(SAMPLE_NUM)]"
   ]
  },
  {
   "cell_type": "code",
   "execution_count": 2,
   "metadata": {},
   "outputs": [
    {
     "name": "stdout",
     "output_type": "stream",
     "text": [
      "0.604774535809\n",
      "0.54\n"
     ]
    }
   ],
   "source": [
    "from MyHmm import MyHmm\n",
    "\n",
    "model = MyHmm()\n",
    "model.fit(Xs, ys)\n",
    "\n",
    "y_pred = model.predict(Xs)\n",
    "\n",
    "from sklearn.metrics import precision_score, accuracy_score\n",
    "\n",
    "print precision_score(ys, y_pred, average='macro')\n",
    "print accuracy_score(ys, y_pred)"
   ]
  },
  {
   "cell_type": "code",
   "execution_count": null,
   "metadata": {},
   "outputs": [],
   "source": []
  }
 ],
 "metadata": {
  "kernelspec": {
   "display_name": "Python 2",
   "language": "python",
   "name": "python2"
  },
  "language_info": {
   "codemirror_mode": {
    "name": "ipython",
    "version": 2
   },
   "file_extension": ".py",
   "mimetype": "text/x-python",
   "name": "python",
   "nbconvert_exporter": "python",
   "pygments_lexer": "ipython2",
   "version": "2.7.15"
  }
 },
 "nbformat": 4,
 "nbformat_minor": 2
}
